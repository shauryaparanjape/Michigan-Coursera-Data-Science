{
 "cells": [
  {
   "cell_type": "markdown",
   "metadata": {},
   "source": [
    "# Subplots"
   ]
  },
  {
   "cell_type": "code",
   "execution_count": 1,
   "metadata": {
    "collapsed": true
   },
   "outputs": [],
   "source": [
    "%matplotlib notebook\n",
    "\n",
    "import matplotlib.pyplot as plt\n",
    "import numpy as np\n",
    "\n",
    "plt.subplot?"
   ]
  },
  {
   "cell_type": "code",
   "execution_count": 2,
   "metadata": {
    "collapsed": false
   },
   "outputs": [
    {
     "data": {
      "application/javascript": [
       "/* Put everything inside the global mpl namespace */\n",
       "window.mpl = {};\n",
       "\n",
       "\n",
       "mpl.get_websocket_type = function() {\n",
       "    if (typeof(WebSocket) !== 'undefined') {\n",
       "        return WebSocket;\n",
       "    } else if (typeof(MozWebSocket) !== 'undefined') {\n",
       "        return MozWebSocket;\n",
       "    } else {\n",
       "        alert('Your browser does not have WebSocket support.' +\n",
       "              'Please try Chrome, Safari or Firefox ≥ 6. ' +\n",
       "              'Firefox 4 and 5 are also supported but you ' +\n",
       "              'have to enable WebSockets in about:config.');\n",
       "    };\n",
       "}\n",
       "\n",
       "mpl.figure = function(figure_id, websocket, ondownload, parent_element) {\n",
       "    this.id = figure_id;\n",
       "\n",
       "    this.ws = websocket;\n",
       "\n",
       "    this.supports_binary = (this.ws.binaryType != undefined);\n",
       "\n",
       "    if (!this.supports_binary) {\n",
       "        var warnings = document.getElementById(\"mpl-warnings\");\n",
       "        if (warnings) {\n",
       "            warnings.style.display = 'block';\n",
       "            warnings.textContent = (\n",
       "                \"This browser does not support binary websocket messages. \" +\n",
       "                    \"Performance may be slow.\");\n",
       "        }\n",
       "    }\n",
       "\n",
       "    this.imageObj = new Image();\n",
       "\n",
       "    this.context = undefined;\n",
       "    this.message = undefined;\n",
       "    this.canvas = undefined;\n",
       "    this.rubberband_canvas = undefined;\n",
       "    this.rubberband_context = undefined;\n",
       "    this.format_dropdown = undefined;\n",
       "\n",
       "    this.image_mode = 'full';\n",
       "\n",
       "    this.root = $('<div/>');\n",
       "    this._root_extra_style(this.root)\n",
       "    this.root.attr('style', 'display: inline-block');\n",
       "\n",
       "    $(parent_element).append(this.root);\n",
       "\n",
       "    this._init_header(this);\n",
       "    this._init_canvas(this);\n",
       "    this._init_toolbar(this);\n",
       "\n",
       "    var fig = this;\n",
       "\n",
       "    this.waiting = false;\n",
       "\n",
       "    this.ws.onopen =  function () {\n",
       "            fig.send_message(\"supports_binary\", {value: fig.supports_binary});\n",
       "            fig.send_message(\"send_image_mode\", {});\n",
       "            if (mpl.ratio != 1) {\n",
       "                fig.send_message(\"set_dpi_ratio\", {'dpi_ratio': mpl.ratio});\n",
       "            }\n",
       "            fig.send_message(\"refresh\", {});\n",
       "        }\n",
       "\n",
       "    this.imageObj.onload = function() {\n",
       "            if (fig.image_mode == 'full') {\n",
       "                // Full images could contain transparency (where diff images\n",
       "                // almost always do), so we need to clear the canvas so that\n",
       "                // there is no ghosting.\n",
       "                fig.context.clearRect(0, 0, fig.canvas.width, fig.canvas.height);\n",
       "            }\n",
       "            fig.context.drawImage(fig.imageObj, 0, 0);\n",
       "        };\n",
       "\n",
       "    this.imageObj.onunload = function() {\n",
       "        this.ws.close();\n",
       "    }\n",
       "\n",
       "    this.ws.onmessage = this._make_on_message_function(this);\n",
       "\n",
       "    this.ondownload = ondownload;\n",
       "}\n",
       "\n",
       "mpl.figure.prototype._init_header = function() {\n",
       "    var titlebar = $(\n",
       "        '<div class=\"ui-dialog-titlebar ui-widget-header ui-corner-all ' +\n",
       "        'ui-helper-clearfix\"/>');\n",
       "    var titletext = $(\n",
       "        '<div class=\"ui-dialog-title\" style=\"width: 100%; ' +\n",
       "        'text-align: center; padding: 3px;\"/>');\n",
       "    titlebar.append(titletext)\n",
       "    this.root.append(titlebar);\n",
       "    this.header = titletext[0];\n",
       "}\n",
       "\n",
       "\n",
       "\n",
       "mpl.figure.prototype._canvas_extra_style = function(canvas_div) {\n",
       "\n",
       "}\n",
       "\n",
       "\n",
       "mpl.figure.prototype._root_extra_style = function(canvas_div) {\n",
       "\n",
       "}\n",
       "\n",
       "mpl.figure.prototype._init_canvas = function() {\n",
       "    var fig = this;\n",
       "\n",
       "    var canvas_div = $('<div/>');\n",
       "\n",
       "    canvas_div.attr('style', 'position: relative; clear: both; outline: 0');\n",
       "\n",
       "    function canvas_keyboard_event(event) {\n",
       "        return fig.key_event(event, event['data']);\n",
       "    }\n",
       "\n",
       "    canvas_div.keydown('key_press', canvas_keyboard_event);\n",
       "    canvas_div.keyup('key_release', canvas_keyboard_event);\n",
       "    this.canvas_div = canvas_div\n",
       "    this._canvas_extra_style(canvas_div)\n",
       "    this.root.append(canvas_div);\n",
       "\n",
       "    var canvas = $('<canvas/>');\n",
       "    canvas.addClass('mpl-canvas');\n",
       "    canvas.attr('style', \"left: 0; top: 0; z-index: 0; outline: 0\")\n",
       "\n",
       "    this.canvas = canvas[0];\n",
       "    this.context = canvas[0].getContext(\"2d\");\n",
       "\n",
       "    var backingStore = this.context.backingStorePixelRatio ||\n",
       "\tthis.context.webkitBackingStorePixelRatio ||\n",
       "\tthis.context.mozBackingStorePixelRatio ||\n",
       "\tthis.context.msBackingStorePixelRatio ||\n",
       "\tthis.context.oBackingStorePixelRatio ||\n",
       "\tthis.context.backingStorePixelRatio || 1;\n",
       "\n",
       "    mpl.ratio = (window.devicePixelRatio || 1) / backingStore;\n",
       "\n",
       "    var rubberband = $('<canvas/>');\n",
       "    rubberband.attr('style', \"position: absolute; left: 0; top: 0; z-index: 1;\")\n",
       "\n",
       "    var pass_mouse_events = true;\n",
       "\n",
       "    canvas_div.resizable({\n",
       "        start: function(event, ui) {\n",
       "            pass_mouse_events = false;\n",
       "        },\n",
       "        resize: function(event, ui) {\n",
       "            fig.request_resize(ui.size.width, ui.size.height);\n",
       "        },\n",
       "        stop: function(event, ui) {\n",
       "            pass_mouse_events = true;\n",
       "            fig.request_resize(ui.size.width, ui.size.height);\n",
       "        },\n",
       "    });\n",
       "\n",
       "    function mouse_event_fn(event) {\n",
       "        if (pass_mouse_events)\n",
       "            return fig.mouse_event(event, event['data']);\n",
       "    }\n",
       "\n",
       "    rubberband.mousedown('button_press', mouse_event_fn);\n",
       "    rubberband.mouseup('button_release', mouse_event_fn);\n",
       "    // Throttle sequential mouse events to 1 every 20ms.\n",
       "    rubberband.mousemove('motion_notify', mouse_event_fn);\n",
       "\n",
       "    rubberband.mouseenter('figure_enter', mouse_event_fn);\n",
       "    rubberband.mouseleave('figure_leave', mouse_event_fn);\n",
       "\n",
       "    canvas_div.on(\"wheel\", function (event) {\n",
       "        event = event.originalEvent;\n",
       "        event['data'] = 'scroll'\n",
       "        if (event.deltaY < 0) {\n",
       "            event.step = 1;\n",
       "        } else {\n",
       "            event.step = -1;\n",
       "        }\n",
       "        mouse_event_fn(event);\n",
       "    });\n",
       "\n",
       "    canvas_div.append(canvas);\n",
       "    canvas_div.append(rubberband);\n",
       "\n",
       "    this.rubberband = rubberband;\n",
       "    this.rubberband_canvas = rubberband[0];\n",
       "    this.rubberband_context = rubberband[0].getContext(\"2d\");\n",
       "    this.rubberband_context.strokeStyle = \"#000000\";\n",
       "\n",
       "    this._resize_canvas = function(width, height) {\n",
       "        // Keep the size of the canvas, canvas container, and rubber band\n",
       "        // canvas in synch.\n",
       "        canvas_div.css('width', width)\n",
       "        canvas_div.css('height', height)\n",
       "\n",
       "        canvas.attr('width', width * mpl.ratio);\n",
       "        canvas.attr('height', height * mpl.ratio);\n",
       "        canvas.attr('style', 'width: ' + width + 'px; height: ' + height + 'px;');\n",
       "\n",
       "        rubberband.attr('width', width);\n",
       "        rubberband.attr('height', height);\n",
       "    }\n",
       "\n",
       "    // Set the figure to an initial 600x600px, this will subsequently be updated\n",
       "    // upon first draw.\n",
       "    this._resize_canvas(600, 600);\n",
       "\n",
       "    // Disable right mouse context menu.\n",
       "    $(this.rubberband_canvas).bind(\"contextmenu\",function(e){\n",
       "        return false;\n",
       "    });\n",
       "\n",
       "    function set_focus () {\n",
       "        canvas.focus();\n",
       "        canvas_div.focus();\n",
       "    }\n",
       "\n",
       "    window.setTimeout(set_focus, 100);\n",
       "}\n",
       "\n",
       "mpl.figure.prototype._init_toolbar = function() {\n",
       "    var fig = this;\n",
       "\n",
       "    var nav_element = $('<div/>')\n",
       "    nav_element.attr('style', 'width: 100%');\n",
       "    this.root.append(nav_element);\n",
       "\n",
       "    // Define a callback function for later on.\n",
       "    function toolbar_event(event) {\n",
       "        return fig.toolbar_button_onclick(event['data']);\n",
       "    }\n",
       "    function toolbar_mouse_event(event) {\n",
       "        return fig.toolbar_button_onmouseover(event['data']);\n",
       "    }\n",
       "\n",
       "    for(var toolbar_ind in mpl.toolbar_items) {\n",
       "        var name = mpl.toolbar_items[toolbar_ind][0];\n",
       "        var tooltip = mpl.toolbar_items[toolbar_ind][1];\n",
       "        var image = mpl.toolbar_items[toolbar_ind][2];\n",
       "        var method_name = mpl.toolbar_items[toolbar_ind][3];\n",
       "\n",
       "        if (!name) {\n",
       "            // put a spacer in here.\n",
       "            continue;\n",
       "        }\n",
       "        var button = $('<button/>');\n",
       "        button.addClass('ui-button ui-widget ui-state-default ui-corner-all ' +\n",
       "                        'ui-button-icon-only');\n",
       "        button.attr('role', 'button');\n",
       "        button.attr('aria-disabled', 'false');\n",
       "        button.click(method_name, toolbar_event);\n",
       "        button.mouseover(tooltip, toolbar_mouse_event);\n",
       "\n",
       "        var icon_img = $('<span/>');\n",
       "        icon_img.addClass('ui-button-icon-primary ui-icon');\n",
       "        icon_img.addClass(image);\n",
       "        icon_img.addClass('ui-corner-all');\n",
       "\n",
       "        var tooltip_span = $('<span/>');\n",
       "        tooltip_span.addClass('ui-button-text');\n",
       "        tooltip_span.html(tooltip);\n",
       "\n",
       "        button.append(icon_img);\n",
       "        button.append(tooltip_span);\n",
       "\n",
       "        nav_element.append(button);\n",
       "    }\n",
       "\n",
       "    var fmt_picker_span = $('<span/>');\n",
       "\n",
       "    var fmt_picker = $('<select/>');\n",
       "    fmt_picker.addClass('mpl-toolbar-option ui-widget ui-widget-content');\n",
       "    fmt_picker_span.append(fmt_picker);\n",
       "    nav_element.append(fmt_picker_span);\n",
       "    this.format_dropdown = fmt_picker[0];\n",
       "\n",
       "    for (var ind in mpl.extensions) {\n",
       "        var fmt = mpl.extensions[ind];\n",
       "        var option = $(\n",
       "            '<option/>', {selected: fmt === mpl.default_extension}).html(fmt);\n",
       "        fmt_picker.append(option)\n",
       "    }\n",
       "\n",
       "    // Add hover states to the ui-buttons\n",
       "    $( \".ui-button\" ).hover(\n",
       "        function() { $(this).addClass(\"ui-state-hover\");},\n",
       "        function() { $(this).removeClass(\"ui-state-hover\");}\n",
       "    );\n",
       "\n",
       "    var status_bar = $('<span class=\"mpl-message\"/>');\n",
       "    nav_element.append(status_bar);\n",
       "    this.message = status_bar[0];\n",
       "}\n",
       "\n",
       "mpl.figure.prototype.request_resize = function(x_pixels, y_pixels) {\n",
       "    // Request matplotlib to resize the figure. Matplotlib will then trigger a resize in the client,\n",
       "    // which will in turn request a refresh of the image.\n",
       "    this.send_message('resize', {'width': x_pixels, 'height': y_pixels});\n",
       "}\n",
       "\n",
       "mpl.figure.prototype.send_message = function(type, properties) {\n",
       "    properties['type'] = type;\n",
       "    properties['figure_id'] = this.id;\n",
       "    this.ws.send(JSON.stringify(properties));\n",
       "}\n",
       "\n",
       "mpl.figure.prototype.send_draw_message = function() {\n",
       "    if (!this.waiting) {\n",
       "        this.waiting = true;\n",
       "        this.ws.send(JSON.stringify({type: \"draw\", figure_id: this.id}));\n",
       "    }\n",
       "}\n",
       "\n",
       "\n",
       "mpl.figure.prototype.handle_save = function(fig, msg) {\n",
       "    var format_dropdown = fig.format_dropdown;\n",
       "    var format = format_dropdown.options[format_dropdown.selectedIndex].value;\n",
       "    fig.ondownload(fig, format);\n",
       "}\n",
       "\n",
       "\n",
       "mpl.figure.prototype.handle_resize = function(fig, msg) {\n",
       "    var size = msg['size'];\n",
       "    if (size[0] != fig.canvas.width || size[1] != fig.canvas.height) {\n",
       "        fig._resize_canvas(size[0], size[1]);\n",
       "        fig.send_message(\"refresh\", {});\n",
       "    };\n",
       "}\n",
       "\n",
       "mpl.figure.prototype.handle_rubberband = function(fig, msg) {\n",
       "    var x0 = msg['x0'] / mpl.ratio;\n",
       "    var y0 = (fig.canvas.height - msg['y0']) / mpl.ratio;\n",
       "    var x1 = msg['x1'] / mpl.ratio;\n",
       "    var y1 = (fig.canvas.height - msg['y1']) / mpl.ratio;\n",
       "    x0 = Math.floor(x0) + 0.5;\n",
       "    y0 = Math.floor(y0) + 0.5;\n",
       "    x1 = Math.floor(x1) + 0.5;\n",
       "    y1 = Math.floor(y1) + 0.5;\n",
       "    var min_x = Math.min(x0, x1);\n",
       "    var min_y = Math.min(y0, y1);\n",
       "    var width = Math.abs(x1 - x0);\n",
       "    var height = Math.abs(y1 - y0);\n",
       "\n",
       "    fig.rubberband_context.clearRect(\n",
       "        0, 0, fig.canvas.width, fig.canvas.height);\n",
       "\n",
       "    fig.rubberband_context.strokeRect(min_x, min_y, width, height);\n",
       "}\n",
       "\n",
       "mpl.figure.prototype.handle_figure_label = function(fig, msg) {\n",
       "    // Updates the figure title.\n",
       "    fig.header.textContent = msg['label'];\n",
       "}\n",
       "\n",
       "mpl.figure.prototype.handle_cursor = function(fig, msg) {\n",
       "    var cursor = msg['cursor'];\n",
       "    switch(cursor)\n",
       "    {\n",
       "    case 0:\n",
       "        cursor = 'pointer';\n",
       "        break;\n",
       "    case 1:\n",
       "        cursor = 'default';\n",
       "        break;\n",
       "    case 2:\n",
       "        cursor = 'crosshair';\n",
       "        break;\n",
       "    case 3:\n",
       "        cursor = 'move';\n",
       "        break;\n",
       "    }\n",
       "    fig.rubberband_canvas.style.cursor = cursor;\n",
       "}\n",
       "\n",
       "mpl.figure.prototype.handle_message = function(fig, msg) {\n",
       "    fig.message.textContent = msg['message'];\n",
       "}\n",
       "\n",
       "mpl.figure.prototype.handle_draw = function(fig, msg) {\n",
       "    // Request the server to send over a new figure.\n",
       "    fig.send_draw_message();\n",
       "}\n",
       "\n",
       "mpl.figure.prototype.handle_image_mode = function(fig, msg) {\n",
       "    fig.image_mode = msg['mode'];\n",
       "}\n",
       "\n",
       "mpl.figure.prototype.updated_canvas_event = function() {\n",
       "    // Called whenever the canvas gets updated.\n",
       "    this.send_message(\"ack\", {});\n",
       "}\n",
       "\n",
       "// A function to construct a web socket function for onmessage handling.\n",
       "// Called in the figure constructor.\n",
       "mpl.figure.prototype._make_on_message_function = function(fig) {\n",
       "    return function socket_on_message(evt) {\n",
       "        if (evt.data instanceof Blob) {\n",
       "            /* FIXME: We get \"Resource interpreted as Image but\n",
       "             * transferred with MIME type text/plain:\" errors on\n",
       "             * Chrome.  But how to set the MIME type?  It doesn't seem\n",
       "             * to be part of the websocket stream */\n",
       "            evt.data.type = \"image/png\";\n",
       "\n",
       "            /* Free the memory for the previous frames */\n",
       "            if (fig.imageObj.src) {\n",
       "                (window.URL || window.webkitURL).revokeObjectURL(\n",
       "                    fig.imageObj.src);\n",
       "            }\n",
       "\n",
       "            fig.imageObj.src = (window.URL || window.webkitURL).createObjectURL(\n",
       "                evt.data);\n",
       "            fig.updated_canvas_event();\n",
       "            fig.waiting = false;\n",
       "            return;\n",
       "        }\n",
       "        else if (typeof evt.data === 'string' && evt.data.slice(0, 21) == \"data:image/png;base64\") {\n",
       "            fig.imageObj.src = evt.data;\n",
       "            fig.updated_canvas_event();\n",
       "            fig.waiting = false;\n",
       "            return;\n",
       "        }\n",
       "\n",
       "        var msg = JSON.parse(evt.data);\n",
       "        var msg_type = msg['type'];\n",
       "\n",
       "        // Call the  \"handle_{type}\" callback, which takes\n",
       "        // the figure and JSON message as its only arguments.\n",
       "        try {\n",
       "            var callback = fig[\"handle_\" + msg_type];\n",
       "        } catch (e) {\n",
       "            console.log(\"No handler for the '\" + msg_type + \"' message type: \", msg);\n",
       "            return;\n",
       "        }\n",
       "\n",
       "        if (callback) {\n",
       "            try {\n",
       "                // console.log(\"Handling '\" + msg_type + \"' message: \", msg);\n",
       "                callback(fig, msg);\n",
       "            } catch (e) {\n",
       "                console.log(\"Exception inside the 'handler_\" + msg_type + \"' callback:\", e, e.stack, msg);\n",
       "            }\n",
       "        }\n",
       "    };\n",
       "}\n",
       "\n",
       "// from http://stackoverflow.com/questions/1114465/getting-mouse-location-in-canvas\n",
       "mpl.findpos = function(e) {\n",
       "    //this section is from http://www.quirksmode.org/js/events_properties.html\n",
       "    var targ;\n",
       "    if (!e)\n",
       "        e = window.event;\n",
       "    if (e.target)\n",
       "        targ = e.target;\n",
       "    else if (e.srcElement)\n",
       "        targ = e.srcElement;\n",
       "    if (targ.nodeType == 3) // defeat Safari bug\n",
       "        targ = targ.parentNode;\n",
       "\n",
       "    // jQuery normalizes the pageX and pageY\n",
       "    // pageX,Y are the mouse positions relative to the document\n",
       "    // offset() returns the position of the element relative to the document\n",
       "    var x = e.pageX - $(targ).offset().left;\n",
       "    var y = e.pageY - $(targ).offset().top;\n",
       "\n",
       "    return {\"x\": x, \"y\": y};\n",
       "};\n",
       "\n",
       "/*\n",
       " * return a copy of an object with only non-object keys\n",
       " * we need this to avoid circular references\n",
       " * http://stackoverflow.com/a/24161582/3208463\n",
       " */\n",
       "function simpleKeys (original) {\n",
       "  return Object.keys(original).reduce(function (obj, key) {\n",
       "    if (typeof original[key] !== 'object')\n",
       "        obj[key] = original[key]\n",
       "    return obj;\n",
       "  }, {});\n",
       "}\n",
       "\n",
       "mpl.figure.prototype.mouse_event = function(event, name) {\n",
       "    var canvas_pos = mpl.findpos(event)\n",
       "\n",
       "    if (name === 'button_press')\n",
       "    {\n",
       "        this.canvas.focus();\n",
       "        this.canvas_div.focus();\n",
       "    }\n",
       "\n",
       "    var x = canvas_pos.x * mpl.ratio;\n",
       "    var y = canvas_pos.y * mpl.ratio;\n",
       "\n",
       "    this.send_message(name, {x: x, y: y, button: event.button,\n",
       "                             step: event.step,\n",
       "                             guiEvent: simpleKeys(event)});\n",
       "\n",
       "    /* This prevents the web browser from automatically changing to\n",
       "     * the text insertion cursor when the button is pressed.  We want\n",
       "     * to control all of the cursor setting manually through the\n",
       "     * 'cursor' event from matplotlib */\n",
       "    event.preventDefault();\n",
       "    return false;\n",
       "}\n",
       "\n",
       "mpl.figure.prototype._key_event_extra = function(event, name) {\n",
       "    // Handle any extra behaviour associated with a key event\n",
       "}\n",
       "\n",
       "mpl.figure.prototype.key_event = function(event, name) {\n",
       "\n",
       "    // Prevent repeat events\n",
       "    if (name == 'key_press')\n",
       "    {\n",
       "        if (event.which === this._key)\n",
       "            return;\n",
       "        else\n",
       "            this._key = event.which;\n",
       "    }\n",
       "    if (name == 'key_release')\n",
       "        this._key = null;\n",
       "\n",
       "    var value = '';\n",
       "    if (event.ctrlKey && event.which != 17)\n",
       "        value += \"ctrl+\";\n",
       "    if (event.altKey && event.which != 18)\n",
       "        value += \"alt+\";\n",
       "    if (event.shiftKey && event.which != 16)\n",
       "        value += \"shift+\";\n",
       "\n",
       "    value += 'k';\n",
       "    value += event.which.toString();\n",
       "\n",
       "    this._key_event_extra(event, name);\n",
       "\n",
       "    this.send_message(name, {key: value,\n",
       "                             guiEvent: simpleKeys(event)});\n",
       "    return false;\n",
       "}\n",
       "\n",
       "mpl.figure.prototype.toolbar_button_onclick = function(name) {\n",
       "    if (name == 'download') {\n",
       "        this.handle_save(this, null);\n",
       "    } else {\n",
       "        this.send_message(\"toolbar_button\", {name: name});\n",
       "    }\n",
       "};\n",
       "\n",
       "mpl.figure.prototype.toolbar_button_onmouseover = function(tooltip) {\n",
       "    this.message.textContent = tooltip;\n",
       "};\n",
       "mpl.toolbar_items = [[\"Home\", \"Reset original view\", \"fa fa-home icon-home\", \"home\"], [\"Back\", \"Back to  previous view\", \"fa fa-arrow-left icon-arrow-left\", \"back\"], [\"Forward\", \"Forward to next view\", \"fa fa-arrow-right icon-arrow-right\", \"forward\"], [\"\", \"\", \"\", \"\"], [\"Pan\", \"Pan axes with left mouse, zoom with right\", \"fa fa-arrows icon-move\", \"pan\"], [\"Zoom\", \"Zoom to rectangle\", \"fa fa-square-o icon-check-empty\", \"zoom\"], [\"\", \"\", \"\", \"\"], [\"Download\", \"Download plot\", \"fa fa-floppy-o icon-save\", \"download\"]];\n",
       "\n",
       "mpl.extensions = [\"eps\", \"jpeg\", \"pdf\", \"png\", \"ps\", \"raw\", \"svg\", \"tif\"];\n",
       "\n",
       "mpl.default_extension = \"png\";var comm_websocket_adapter = function(comm) {\n",
       "    // Create a \"websocket\"-like object which calls the given IPython comm\n",
       "    // object with the appropriate methods. Currently this is a non binary\n",
       "    // socket, so there is still some room for performance tuning.\n",
       "    var ws = {};\n",
       "\n",
       "    ws.close = function() {\n",
       "        comm.close()\n",
       "    };\n",
       "    ws.send = function(m) {\n",
       "        //console.log('sending', m);\n",
       "        comm.send(m);\n",
       "    };\n",
       "    // Register the callback with on_msg.\n",
       "    comm.on_msg(function(msg) {\n",
       "        //console.log('receiving', msg['content']['data'], msg);\n",
       "        // Pass the mpl event to the overriden (by mpl) onmessage function.\n",
       "        ws.onmessage(msg['content']['data'])\n",
       "    });\n",
       "    return ws;\n",
       "}\n",
       "\n",
       "mpl.mpl_figure_comm = function(comm, msg) {\n",
       "    // This is the function which gets called when the mpl process\n",
       "    // starts-up an IPython Comm through the \"matplotlib\" channel.\n",
       "\n",
       "    var id = msg.content.data.id;\n",
       "    // Get hold of the div created by the display call when the Comm\n",
       "    // socket was opened in Python.\n",
       "    var element = $(\"#\" + id);\n",
       "    var ws_proxy = comm_websocket_adapter(comm)\n",
       "\n",
       "    function ondownload(figure, format) {\n",
       "        window.open(figure.imageObj.src);\n",
       "    }\n",
       "\n",
       "    var fig = new mpl.figure(id, ws_proxy,\n",
       "                           ondownload,\n",
       "                           element.get(0));\n",
       "\n",
       "    // Call onopen now - mpl needs it, as it is assuming we've passed it a real\n",
       "    // web socket which is closed, not our websocket->open comm proxy.\n",
       "    ws_proxy.onopen();\n",
       "\n",
       "    fig.parent_element = element.get(0);\n",
       "    fig.cell_info = mpl.find_output_cell(\"<div id='\" + id + \"'></div>\");\n",
       "    if (!fig.cell_info) {\n",
       "        console.error(\"Failed to find cell for figure\", id, fig);\n",
       "        return;\n",
       "    }\n",
       "\n",
       "    var output_index = fig.cell_info[2]\n",
       "    var cell = fig.cell_info[0];\n",
       "\n",
       "};\n",
       "\n",
       "mpl.figure.prototype.handle_close = function(fig, msg) {\n",
       "    var width = fig.canvas.width/mpl.ratio\n",
       "    fig.root.unbind('remove')\n",
       "\n",
       "    // Update the output cell to use the data from the current canvas.\n",
       "    fig.push_to_output();\n",
       "    var dataURL = fig.canvas.toDataURL();\n",
       "    // Re-enable the keyboard manager in IPython - without this line, in FF,\n",
       "    // the notebook keyboard shortcuts fail.\n",
       "    IPython.keyboard_manager.enable()\n",
       "    $(fig.parent_element).html('<img src=\"' + dataURL + '\" width=\"' + width + '\">');\n",
       "    fig.close_ws(fig, msg);\n",
       "}\n",
       "\n",
       "mpl.figure.prototype.close_ws = function(fig, msg){\n",
       "    fig.send_message('closing', msg);\n",
       "    // fig.ws.close()\n",
       "}\n",
       "\n",
       "mpl.figure.prototype.push_to_output = function(remove_interactive) {\n",
       "    // Turn the data on the canvas into data in the output cell.\n",
       "    var width = this.canvas.width/mpl.ratio\n",
       "    var dataURL = this.canvas.toDataURL();\n",
       "    this.cell_info[1]['text/html'] = '<img src=\"' + dataURL + '\" width=\"' + width + '\">';\n",
       "}\n",
       "\n",
       "mpl.figure.prototype.updated_canvas_event = function() {\n",
       "    // Tell IPython that the notebook contents must change.\n",
       "    IPython.notebook.set_dirty(true);\n",
       "    this.send_message(\"ack\", {});\n",
       "    var fig = this;\n",
       "    // Wait a second, then push the new image to the DOM so\n",
       "    // that it is saved nicely (might be nice to debounce this).\n",
       "    setTimeout(function () { fig.push_to_output() }, 1000);\n",
       "}\n",
       "\n",
       "mpl.figure.prototype._init_toolbar = function() {\n",
       "    var fig = this;\n",
       "\n",
       "    var nav_element = $('<div/>')\n",
       "    nav_element.attr('style', 'width: 100%');\n",
       "    this.root.append(nav_element);\n",
       "\n",
       "    // Define a callback function for later on.\n",
       "    function toolbar_event(event) {\n",
       "        return fig.toolbar_button_onclick(event['data']);\n",
       "    }\n",
       "    function toolbar_mouse_event(event) {\n",
       "        return fig.toolbar_button_onmouseover(event['data']);\n",
       "    }\n",
       "\n",
       "    for(var toolbar_ind in mpl.toolbar_items){\n",
       "        var name = mpl.toolbar_items[toolbar_ind][0];\n",
       "        var tooltip = mpl.toolbar_items[toolbar_ind][1];\n",
       "        var image = mpl.toolbar_items[toolbar_ind][2];\n",
       "        var method_name = mpl.toolbar_items[toolbar_ind][3];\n",
       "\n",
       "        if (!name) { continue; };\n",
       "\n",
       "        var button = $('<button class=\"btn btn-default\" href=\"#\" title=\"' + name + '\"><i class=\"fa ' + image + ' fa-lg\"></i></button>');\n",
       "        button.click(method_name, toolbar_event);\n",
       "        button.mouseover(tooltip, toolbar_mouse_event);\n",
       "        nav_element.append(button);\n",
       "    }\n",
       "\n",
       "    // Add the status bar.\n",
       "    var status_bar = $('<span class=\"mpl-message\" style=\"text-align:right; float: right;\"/>');\n",
       "    nav_element.append(status_bar);\n",
       "    this.message = status_bar[0];\n",
       "\n",
       "    // Add the close button to the window.\n",
       "    var buttongrp = $('<div class=\"btn-group inline pull-right\"></div>');\n",
       "    var button = $('<button class=\"btn btn-mini btn-primary\" href=\"#\" title=\"Stop Interaction\"><i class=\"fa fa-power-off icon-remove icon-large\"></i></button>');\n",
       "    button.click(function (evt) { fig.handle_close(fig, {}); } );\n",
       "    button.mouseover('Stop Interaction', toolbar_mouse_event);\n",
       "    buttongrp.append(button);\n",
       "    var titlebar = this.root.find($('.ui-dialog-titlebar'));\n",
       "    titlebar.prepend(buttongrp);\n",
       "}\n",
       "\n",
       "mpl.figure.prototype._root_extra_style = function(el){\n",
       "    var fig = this\n",
       "    el.on(\"remove\", function(){\n",
       "\tfig.close_ws(fig, {});\n",
       "    });\n",
       "}\n",
       "\n",
       "mpl.figure.prototype._canvas_extra_style = function(el){\n",
       "    // this is important to make the div 'focusable\n",
       "    el.attr('tabindex', 0)\n",
       "    // reach out to IPython and tell the keyboard manager to turn it's self\n",
       "    // off when our div gets focus\n",
       "\n",
       "    // location in version 3\n",
       "    if (IPython.notebook.keyboard_manager) {\n",
       "        IPython.notebook.keyboard_manager.register_events(el);\n",
       "    }\n",
       "    else {\n",
       "        // location in version 2\n",
       "        IPython.keyboard_manager.register_events(el);\n",
       "    }\n",
       "\n",
       "}\n",
       "\n",
       "mpl.figure.prototype._key_event_extra = function(event, name) {\n",
       "    var manager = IPython.notebook.keyboard_manager;\n",
       "    if (!manager)\n",
       "        manager = IPython.keyboard_manager;\n",
       "\n",
       "    // Check for shift+enter\n",
       "    if (event.shiftKey && event.which == 13) {\n",
       "        this.canvas_div.blur();\n",
       "        // select the cell after this one\n",
       "        var index = IPython.notebook.find_cell_index(this.cell_info[0]);\n",
       "        IPython.notebook.select(index + 1);\n",
       "    }\n",
       "}\n",
       "\n",
       "mpl.figure.prototype.handle_save = function(fig, msg) {\n",
       "    fig.ondownload(fig, null);\n",
       "}\n",
       "\n",
       "\n",
       "mpl.find_output_cell = function(html_output) {\n",
       "    // Return the cell and output element which can be found *uniquely* in the notebook.\n",
       "    // Note - this is a bit hacky, but it is done because the \"notebook_saving.Notebook\"\n",
       "    // IPython event is triggered only after the cells have been serialised, which for\n",
       "    // our purposes (turning an active figure into a static one), is too late.\n",
       "    var cells = IPython.notebook.get_cells();\n",
       "    var ncells = cells.length;\n",
       "    for (var i=0; i<ncells; i++) {\n",
       "        var cell = cells[i];\n",
       "        if (cell.cell_type === 'code'){\n",
       "            for (var j=0; j<cell.output_area.outputs.length; j++) {\n",
       "                var data = cell.output_area.outputs[j];\n",
       "                if (data.data) {\n",
       "                    // IPython >= 3 moved mimebundle to data attribute of output\n",
       "                    data = data.data;\n",
       "                }\n",
       "                if (data['text/html'] == html_output) {\n",
       "                    return [cell, data, j];\n",
       "                }\n",
       "            }\n",
       "        }\n",
       "    }\n",
       "}\n",
       "\n",
       "// Register the function which deals with the matplotlib target/channel.\n",
       "// The kernel may be null if the page has been refreshed.\n",
       "if (IPython.notebook.kernel != null) {\n",
       "    IPython.notebook.kernel.comm_manager.register_target('matplotlib', mpl.mpl_figure_comm);\n",
       "}\n"
      ],
      "text/plain": [
       "<IPython.core.display.Javascript object>"
      ]
     },
     "metadata": {},
     "output_type": "display_data"
    },
    {
     "data": {
      "text/html": [
       "<img src=\"data:image/png;base64,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\" width=\"640\">"
      ],
      "text/plain": [
       "<IPython.core.display.HTML object>"
      ]
     },
     "metadata": {},
     "output_type": "display_data"
    },
    {
     "data": {
      "text/plain": [
       "[<matplotlib.lines.Line2D at 0x7f1b1a834f98>]"
      ]
     },
     "execution_count": 2,
     "metadata": {},
     "output_type": "execute_result"
    }
   ],
   "source": [
    "plt.figure()\n",
    "# subplot with 1 row, 2 columns, and current axis is 1st subplot axes\n",
    "plt.subplot(1, 2, 1)\n",
    "\n",
    "linear_data = np.array([1,2,3,4,5,6,7,8])\n",
    "\n",
    "plt.plot(linear_data, '-o')"
   ]
  },
  {
   "cell_type": "code",
   "execution_count": 3,
   "metadata": {
    "collapsed": false
   },
   "outputs": [
    {
     "data": {
      "text/plain": [
       "[<matplotlib.lines.Line2D at 0x7f1b1c83e630>]"
      ]
     },
     "execution_count": 3,
     "metadata": {},
     "output_type": "execute_result"
    }
   ],
   "source": [
    "exponential_data = linear_data**2 \n",
    "\n",
    "# subplot with 1 row, 2 columns, and current axis is 2nd subplot axes\n",
    "plt.subplot(1, 2, 2)\n",
    "plt.plot(exponential_data, '-o')"
   ]
  },
  {
   "cell_type": "code",
   "execution_count": 4,
   "metadata": {
    "collapsed": false
   },
   "outputs": [
    {
     "data": {
      "text/plain": [
       "[<matplotlib.lines.Line2D at 0x7f1b1a51c780>]"
      ]
     },
     "execution_count": 4,
     "metadata": {},
     "output_type": "execute_result"
    }
   ],
   "source": [
    "# plot exponential data on 1st subplot axes\n",
    "plt.subplot(1, 2, 1)\n",
    "plt.plot(exponential_data, '-x')"
   ]
  },
  {
   "cell_type": "code",
   "execution_count": null,
   "metadata": {
    "collapsed": false
   },
   "outputs": [],
   "source": [
    "plt.figure()\n",
    "ax1 = plt.subplot(1, 2, 1)\n",
    "plt.plot(linear_data, '-o')\n",
    "# pass sharey=ax1 to ensure the two subplots share the same y axis\n",
    "ax2 = plt.subplot(1, 2, 2, sharey=ax1)\n",
    "plt.plot(exponential_data, '-x')"
   ]
  },
  {
   "cell_type": "code",
   "execution_count": null,
   "metadata": {
    "collapsed": false
   },
   "outputs": [],
   "source": [
    "plt.figure()\n",
    "# the right hand side is equivalent shorthand syntax\n",
    "plt.subplot(1,2,1) == plt.subplot(121)"
   ]
  },
  {
   "cell_type": "code",
   "execution_count": null,
   "metadata": {
    "collapsed": false
   },
   "outputs": [],
   "source": [
    "# create a 3x3 grid of subplots\n",
    "fig, ((ax1,ax2,ax3), (ax4,ax5,ax6), (ax7,ax8,ax9)) = plt.subplots(3, 3, sharex=True, sharey=True)\n",
    "# plot the linear_data on the 5th subplot axes \n",
    "ax5.plot(linear_data, '-')"
   ]
  },
  {
   "cell_type": "code",
   "execution_count": null,
   "metadata": {
    "collapsed": false
   },
   "outputs": [],
   "source": [
    "# set inside tick labels to visible\n",
    "for ax in plt.gcf().get_axes():\n",
    "    for label in ax.get_xticklabels() + ax.get_yticklabels():\n",
    "        label.set_visible(True)"
   ]
  },
  {
   "cell_type": "code",
   "execution_count": null,
   "metadata": {
    "collapsed": true
   },
   "outputs": [],
   "source": [
    "# necessary on some systems to update the plot\n",
    "plt.gcf().canvas.draw()"
   ]
  },
  {
   "cell_type": "markdown",
   "metadata": {},
   "source": [
    "# Histograms"
   ]
  },
  {
   "cell_type": "code",
   "execution_count": null,
   "metadata": {
    "collapsed": false
   },
   "outputs": [],
   "source": [
    "# create 2x2 grid of axis subplots\n",
    "fig, ((ax1, ax2), (ax3, ax4)) = plt.subplots(2, 2, sharex=True)\n",
    "axs = [ax1,ax2,ax3,ax4]\n",
    "\n",
    "# draw n = 10, 100, 1000, and 10000 samples from the normal distribution and plot corresponding histograms\n",
    "for n in range(0,len(axs)):\n",
    "    sample_size = 10**(n+1)\n",
    "    sample = np.random.normal(loc=0.0, scale=1.0, size=sample_size)\n",
    "    axs[n].hist(sample)\n",
    "    axs[n].set_title('n={}'.format(sample_size))"
   ]
  },
  {
   "cell_type": "code",
   "execution_count": null,
   "metadata": {
    "collapsed": false
   },
   "outputs": [],
   "source": [
    "# repeat with number of bins set to 100\n",
    "fig, ((ax1, ax2), (ax3, ax4)) = plt.subplots(2, 2, sharex=True)\n",
    "axs = [ax1,ax2,ax3,ax4]\n",
    "\n",
    "for n in range(0,len(axs)):\n",
    "    sample_size = 10**(n+1)\n",
    "    sample = np.random.normal(loc=0.0, scale=1.0, size=sample_size)\n",
    "    axs[n].hist(sample, bins=100)\n",
    "    axs[n].set_title('n={}'.format(sample_size))"
   ]
  },
  {
   "cell_type": "code",
   "execution_count": null,
   "metadata": {
    "collapsed": false
   },
   "outputs": [],
   "source": [
    "plt.figure()\n",
    "Y = np.random.normal(loc=0.0, scale=1.0, size=10000)\n",
    "X = np.random.random(size=10000)\n",
    "plt.scatter(X,Y)"
   ]
  },
  {
   "cell_type": "code",
   "execution_count": null,
   "metadata": {
    "collapsed": false
   },
   "outputs": [],
   "source": [
    "# use gridspec to partition the figure into subplots\n",
    "import matplotlib.gridspec as gridspec\n",
    "\n",
    "plt.figure()\n",
    "gspec = gridspec.GridSpec(3, 3)\n",
    "\n",
    "top_histogram = plt.subplot(gspec[0, 1:])\n",
    "side_histogram = plt.subplot(gspec[1:, 0])\n",
    "lower_right = plt.subplot(gspec[1:, 1:])"
   ]
  },
  {
   "cell_type": "code",
   "execution_count": null,
   "metadata": {
    "collapsed": false
   },
   "outputs": [],
   "source": [
    "Y = np.random.normal(loc=0.0, scale=1.0, size=10000)\n",
    "X = np.random.random(size=10000)\n",
    "lower_right.scatter(X, Y)\n",
    "top_histogram.hist(X, bins=100)\n",
    "s = side_histogram.hist(Y, bins=100, orientation='horizontal')"
   ]
  },
  {
   "cell_type": "code",
   "execution_count": null,
   "metadata": {
    "collapsed": true
   },
   "outputs": [],
   "source": [
    "# clear the histograms and plot normed histograms\n",
    "top_histogram.clear()\n",
    "top_histogram.hist(X, bins=100, normed=True)\n",
    "side_histogram.clear()\n",
    "side_histogram.hist(Y, bins=100, orientation='horizontal', normed=True)\n",
    "# flip the side histogram's x axis\n",
    "side_histogram.invert_xaxis()"
   ]
  },
  {
   "cell_type": "code",
   "execution_count": null,
   "metadata": {
    "collapsed": false
   },
   "outputs": [],
   "source": [
    "# change axes limits\n",
    "for ax in [top_histogram, lower_right]:\n",
    "    ax.set_xlim(0, 1)\n",
    "for ax in [side_histogram, lower_right]:\n",
    "    ax.set_ylim(-5, 5)"
   ]
  },
  {
   "cell_type": "code",
   "execution_count": null,
   "metadata": {
    "collapsed": false
   },
   "outputs": [],
   "source": [
    "%%HTML\n",
    "<img src='http://educationxpress.mit.edu/sites/default/files/journal/WP1-Fig13.jpg' />"
   ]
  },
  {
   "cell_type": "markdown",
   "metadata": {},
   "source": [
    "# Box and Whisker Plots"
   ]
  },
  {
   "cell_type": "code",
   "execution_count": null,
   "metadata": {
    "collapsed": false
   },
   "outputs": [],
   "source": [
    "import pandas as pd\n",
    "normal_sample = np.random.normal(loc=0.0, scale=1.0, size=10000)\n",
    "random_sample = np.random.random(size=10000)\n",
    "gamma_sample = np.random.gamma(2, size=10000)\n",
    "\n",
    "df = pd.DataFrame({'normal': normal_sample, \n",
    "                   'random': random_sample, \n",
    "                   'gamma': gamma_sample})"
   ]
  },
  {
   "cell_type": "code",
   "execution_count": null,
   "metadata": {
    "collapsed": false
   },
   "outputs": [],
   "source": [
    "df.describe()"
   ]
  },
  {
   "cell_type": "code",
   "execution_count": null,
   "metadata": {
    "collapsed": false
   },
   "outputs": [],
   "source": [
    "plt.figure()\n",
    "# create a boxplot of the normal data, assign the output to a variable to supress output\n",
    "_ = plt.boxplot(df['normal'], whis='range')"
   ]
  },
  {
   "cell_type": "code",
   "execution_count": null,
   "metadata": {
    "collapsed": false
   },
   "outputs": [],
   "source": [
    "# clear the current figure\n",
    "plt.clf()\n",
    "# plot boxplots for all three of df's columns\n",
    "_ = plt.boxplot([ df['normal'], df['random'], df['gamma'] ], whis='range')"
   ]
  },
  {
   "cell_type": "code",
   "execution_count": null,
   "metadata": {
    "collapsed": false
   },
   "outputs": [],
   "source": [
    "plt.figure()\n",
    "_ = plt.hist(df['gamma'], bins=100)"
   ]
  },
  {
   "cell_type": "code",
   "execution_count": null,
   "metadata": {
    "collapsed": false
   },
   "outputs": [],
   "source": [
    "import mpl_toolkits.axes_grid1.inset_locator as mpl_il\n",
    "\n",
    "plt.figure()\n",
    "plt.boxplot([ df['normal'], df['random'], df['gamma'] ], whis='range')\n",
    "# overlay axis on top of another \n",
    "ax2 = mpl_il.inset_axes(plt.gca(), width='60%', height='40%', loc=2)\n",
    "ax2.hist(df['gamma'], bins=100)\n",
    "ax2.margins(x=0.5)"
   ]
  },
  {
   "cell_type": "code",
   "execution_count": null,
   "metadata": {
    "collapsed": true
   },
   "outputs": [],
   "source": [
    "# switch the y axis ticks for ax2 to the right side\n",
    "ax2.yaxis.tick_right()"
   ]
  },
  {
   "cell_type": "code",
   "execution_count": null,
   "metadata": {
    "collapsed": false
   },
   "outputs": [],
   "source": [
    "# if `whis` argument isn't passed, boxplot defaults to showing 1.5*interquartile (IQR) whiskers with outliers\n",
    "plt.figure()\n",
    "_ = plt.boxplot([ df['normal'], df['random'], df['gamma'] ] )"
   ]
  },
  {
   "cell_type": "markdown",
   "metadata": {},
   "source": [
    "# Heatmaps"
   ]
  },
  {
   "cell_type": "code",
   "execution_count": null,
   "metadata": {
    "collapsed": false
   },
   "outputs": [],
   "source": [
    "plt.figure()\n",
    "\n",
    "Y = np.random.normal(loc=0.0, scale=1.0, size=10000)\n",
    "X = np.random.random(size=10000)\n",
    "_ = plt.hist2d(X, Y, bins=25)"
   ]
  },
  {
   "cell_type": "code",
   "execution_count": null,
   "metadata": {
    "collapsed": false
   },
   "outputs": [],
   "source": [
    "plt.figure()\n",
    "_ = plt.hist2d(X, Y, bins=100)"
   ]
  },
  {
   "cell_type": "code",
   "execution_count": null,
   "metadata": {
    "collapsed": false
   },
   "outputs": [],
   "source": [
    "# add a colorbar legend\n",
    "plt.colorbar()"
   ]
  },
  {
   "cell_type": "markdown",
   "metadata": {
    "collapsed": true
   },
   "source": [
    "# Animations"
   ]
  },
  {
   "cell_type": "code",
   "execution_count": null,
   "metadata": {
    "collapsed": true
   },
   "outputs": [],
   "source": [
    "import matplotlib.animation as animation\n",
    "\n",
    "n = 100\n",
    "x = np.random.randn(n)"
   ]
  },
  {
   "cell_type": "code",
   "execution_count": null,
   "metadata": {
    "collapsed": false
   },
   "outputs": [],
   "source": [
    "# create the function that will do the plotting, where curr is the current frame\n",
    "def update(curr):\n",
    "    # check if animation is at the last frame, and if so, stop the animation a\n",
    "    if curr == n: \n",
    "        a.event_source.stop()\n",
    "    plt.cla()\n",
    "    bins = np.arange(-4, 4, 0.5)\n",
    "    plt.hist(x[:curr], bins=bins)\n",
    "    plt.axis([-4,4,0,30])\n",
    "    plt.gca().set_title('Sampling the Normal Distribution')\n",
    "    plt.gca().set_ylabel('Frequency')\n",
    "    plt.gca().set_xlabel('Value')\n",
    "    plt.annotate('n = {}'.format(curr), [3,27])"
   ]
  },
  {
   "cell_type": "code",
   "execution_count": null,
   "metadata": {
    "collapsed": false
   },
   "outputs": [],
   "source": [
    "fig = plt.figure()\n",
    "a = animation.FuncAnimation(fig, update, interval=100)"
   ]
  },
  {
   "cell_type": "markdown",
   "metadata": {},
   "source": [
    "# Interactivity"
   ]
  },
  {
   "cell_type": "code",
   "execution_count": null,
   "metadata": {
    "collapsed": false
   },
   "outputs": [],
   "source": [
    "plt.figure()\n",
    "data = np.random.rand(10)\n",
    "plt.plot(data)\n",
    "\n",
    "def onclick(event):\n",
    "    plt.cla()\n",
    "    plt.plot(data)\n",
    "    plt.gca().set_title('Event at pixels {},{} \\nand data {},{}'.format(event.x, event.y, event.xdata, event.ydata))\n",
    "\n",
    "# tell mpl_connect we want to pass a 'button_press_event' into onclick when the event is detected\n",
    "plt.gcf().canvas.mpl_connect('button_press_event', onclick)"
   ]
  },
  {
   "cell_type": "code",
   "execution_count": null,
   "metadata": {
    "collapsed": false
   },
   "outputs": [],
   "source": [
    "from random import shuffle\n",
    "origins = ['China', 'Brazil', 'India', 'USA', 'Canada', 'UK', 'Germany', 'Iraq', 'Chile', 'Mexico']\n",
    "\n",
    "shuffle(origins)\n",
    "\n",
    "df = pd.DataFrame({'height': np.random.rand(10),\n",
    "                   'weight': np.random.rand(10),\n",
    "                   'origin': origins})\n",
    "df"
   ]
  },
  {
   "cell_type": "code",
   "execution_count": null,
   "metadata": {
    "collapsed": false
   },
   "outputs": [],
   "source": [
    "plt.figure()\n",
    "# picker=5 means the mouse doesn't have to click directly on an event, but can be up to 5 pixels away\n",
    "plt.scatter(df['height'], df['weight'], picker=5)\n",
    "plt.gca().set_ylabel('Weight')\n",
    "plt.gca().set_xlabel('Height')"
   ]
  },
  {
   "cell_type": "code",
   "execution_count": null,
   "metadata": {
    "collapsed": false
   },
   "outputs": [],
   "source": [
    "def onpick(event):\n",
    "    origin = df.iloc[event.ind[0]]['origin']\n",
    "    plt.gca().set_title('Selected item came from {}'.format(origin))\n",
    "\n",
    "# tell mpl_connect we want to pass a 'pick_event' into onpick when the event is detected\n",
    "plt.gcf().canvas.mpl_connect('pick_event', onpick)"
   ]
  }
 ],
 "metadata": {
  "kernelspec": {
   "display_name": "Python 3",
   "language": "python",
   "name": "python3"
  },
  "language_info": {
   "codemirror_mode": {
    "name": "ipython",
    "version": 3
   },
   "file_extension": ".py",
   "mimetype": "text/x-python",
   "name": "python",
   "nbconvert_exporter": "python",
   "pygments_lexer": "ipython3",
   "version": "3.5.2"
  }
 },
 "nbformat": 4,
 "nbformat_minor": 1
}
